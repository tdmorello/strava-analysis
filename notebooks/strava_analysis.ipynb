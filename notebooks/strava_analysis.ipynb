{
 "cells": [
  {
   "cell_type": "code",
   "execution_count": 7,
   "metadata": {},
   "outputs": [
    {
     "name": "stderr",
     "output_type": "stream",
     "text": [
      "24:25: syntax error: Expected end of line but found unknown token. (-2741)\n"
     ]
    },
    {
     "data": {
      "text/plain": [
       "CompletedProcess(args=['osascript', '-e', \"tell application 'Safari'\\n    make new document with properties {URL:http://www.strava.com/oauth/authorize?client_id=97002&response_type=code&redirect_uri=http://localhost/&approval_prompt=force&scope=profile:read_all,activity:read_all}\\n    activate\\nend tell\"], returncode=1)"
      ]
     },
     "execution_count": 7,
     "metadata": {},
     "output_type": "execute_result"
    }
   ],
   "source": [
    "import json\n",
    "\n",
    "import subprocess\n",
    "\n",
    "with open(\"creds.json\", \"r\") as fp:\n",
    "    creds = json.load(fp)\n",
    "\n",
    "# Initial Settings\n",
    "client_id = creds[\"client_id\"]\n",
    "client_secret = creds[\"client_secret\"]\n",
    "redirect_uri = \"http://localhost/\"\n",
    "\n",
    "# Authorization URL\n",
    "request_url = (\n",
    "    f\"http://www.strava.com/oauth/authorize?client_id={client_id}\"\n",
    "    f\"&response_type=code&redirect_uri={redirect_uri}\"\n",
    "    f\"&approval_prompt=force\"\n",
    "    f\"&scope=profile:read_all,activity:read_all\"\n",
    ")\n",
    "\n",
    "subprocess.run([\"osascript\", \"-e\", \n",
    "f\"\"\"tell application 'Safari'\n",
    "    make new document with properties {{URL:{request_url}}}\n",
    "    activate\n",
    "end tell\"\"\"])"
   ]
  },
  {
   "cell_type": "code",
   "execution_count": 8,
   "metadata": {},
   "outputs": [
    {
     "data": {
      "text/plain": [
       "CompletedProcess(args=['open', '-a', 'Safari'], returncode=0)"
      ]
     },
     "execution_count": 8,
     "metadata": {},
     "output_type": "execute_result"
    }
   ],
   "source": [
    "subprocess.run([\"open\", \"-a\", \"Safari\"])"
   ]
  },
  {
   "cell_type": "code",
   "execution_count": null,
   "metadata": {},
   "outputs": [],
   "source": []
  }
 ],
 "metadata": {
  "kernelspec": {
   "display_name": "Python 3.10.8 ('venv': venv)",
   "language": "python",
   "name": "python3"
  },
  "language_info": {
   "codemirror_mode": {
    "name": "ipython",
    "version": 3
   },
   "file_extension": ".py",
   "mimetype": "text/x-python",
   "name": "python",
   "nbconvert_exporter": "python",
   "pygments_lexer": "ipython3",
   "version": "3.10.8"
  },
  "orig_nbformat": 4,
  "vscode": {
   "interpreter": {
    "hash": "a0ef1d9c0929062e28ba1c6f2d84c4b13196fa2d5686aaad15caf75bc876869e"
   }
  }
 },
 "nbformat": 4,
 "nbformat_minor": 2
}
